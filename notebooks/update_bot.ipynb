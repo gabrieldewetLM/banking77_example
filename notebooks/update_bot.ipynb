{
 "cells": [
  {
   "cell_type": "code",
   "execution_count": 2,
   "metadata": {},
   "outputs": [],
   "source": [
    "import boto3\r\n",
    "import pandas as pd\r\n",
    "import json\r\n",
    "import time\r\n",
    "import requests\r\n",
    "import zipfile\r\n",
    "from io import BytesIO"
   ]
  },
  {
   "cell_type": "code",
   "execution_count": 3,
   "metadata": {},
   "outputs": [],
   "source": [
    "# AWS credentials\r\n",
    "with open(\"../resources/credentials.json\", \"r\") as f:\r\n",
    "    creds = json.load(f)\r\n",
    "    \r\n",
    "ACCESS_KEY = creds[\"Access key ID\"]\r\n",
    "SECRET_KEY = creds[\"Secret access key\"]\r\n",
    "region = \"eu-west-1\"\r\n",
    "\r\n",
    "# Clients\r\n",
    "lex_runtime = \"lex-runtime\"\r\n",
    "lex_models = \"lex-models\"\r\n",
    "\r\n",
    "# Bot details\r\n",
    "with open(\"../resources/bot_config.json\", \"r\") as f:\r\n",
    "    bot_config = json.load(f)\r\n",
    "    \r\n",
    "bot_name = bot_config[\"bot_name\"]\r\n",
    "bot_alias = bot_config[\"bot_alias\"]"
   ]
  },
  {
   "cell_type": "code",
   "execution_count": 4,
   "metadata": {},
   "outputs": [],
   "source": [
    "client = boto3.client(lex_models,\r\n",
    "                      aws_access_key_id=ACCESS_KEY,\r\n",
    "                      aws_secret_access_key=SECRET_KEY,\r\n",
    "                      region_name=region)"
   ]
  },
  {
   "cell_type": "code",
   "execution_count": null,
   "metadata": {},
   "outputs": [],
   "source": [
    "response = client.create_bot_version(\r\n",
    "    name=bot_name,\r\n",
    ")\r\n",
    "bot_version = response[\"version\"]\r\n",
    "bot_version"
   ]
  },
  {
   "cell_type": "code",
   "execution_count": null,
   "metadata": {},
   "outputs": [],
   "source": [
    "# Export Bot\r\n",
    "response = client.get_export(\r\n",
    "    name=bot_name,\r\n",
    "    version=bot_version,\r\n",
    "    resourceType='BOT',\r\n",
    "    exportType='LEX'\r\n",
    ")\r\n",
    "\r\n",
    "response"
   ]
  },
  {
   "cell_type": "code",
   "execution_count": null,
   "metadata": {},
   "outputs": [],
   "source": [
    "url = response['url']\r\n",
    "file_out = url.split('/')[3].split(\"?\")[0]\r\n",
    "\r\n",
    "with open(f\"../bots/{file_out}\", 'wb') as f:\r\n",
    "    \r\n",
    "    f.write(requests.get(url).content)"
   ]
  },
  {
   "cell_type": "code",
   "execution_count": 7,
   "metadata": {},
   "outputs": [],
   "source": [
    "file_out = \"banking_seventy_seven_1_f96d1de8-b68c-4732-82e4-0290663024e3_Bot_LEX_V1.zip\"\r\n",
    "with zipfile.ZipFile(f\"../bots/{file_out}\", \"r\") as bot_zip:\r\n",
    "    \r\n",
    "    fname = bot_zip.namelist()[0]\r\n",
    "    with bot_zip.open(fname) as f:\r\n",
    "        bot_extract = json.loads(f.read().decode(\"utf-8\"), )\r\n",
    "        "
   ]
  },
  {
   "cell_type": "code",
   "execution_count": null,
   "metadata": {},
   "outputs": [],
   "source": [
    "# Delete current bot and existing intents\r\n",
    "\r\n",
    "# Check for aliases\r\n",
    "response = client.get_bot_aliases(\r\n",
    "    botName=bot_name,\r\n",
    ")\r\n",
    "\r\n",
    "if len(response['BotAliases']) > 0:\r\n",
    "    for alias in response['BotAliases']:\r\n",
    "        alias_name = alias[\"name\"]\r\n",
    "        \r\n",
    "        print(f\"Deleting alias: {alias_name}\", end=\" - \")\r\n",
    "        response = client.delete_bot_alias(\r\n",
    "            name=alias[\"name\"],\r\n",
    "            botName=bot_name\r\n",
    "        )\r\n",
    "        time.sleep(1)\r\n",
    "        print(\"Done\")\r\n",
    "\r\n",
    "# Delete bot\r\n",
    "print(f\"\\nDeleting Bot: {bot_name}\", end=\" - \")\r\n",
    "response = client.delete_bot(\r\n",
    "    name=bot_name\r\n",
    ")\r\n",
    "time.sleep(1)\r\n",
    "print(\"Done.\\n\")"
   ]
  },
  {
   "cell_type": "code",
   "execution_count": 8,
   "metadata": {},
   "outputs": [],
   "source": [
    "# Get existing intents\r\n",
    "existing_intents = [intent[\"name\"] for intent in bot_extract[\"resource\"][\"intents\"]]\r\n",
    "\r\n",
    "\r\n",
    "# Delete intents\r\n",
    "for i, intent in enumerate(existing_intents):\r\n",
    "    print(f\"\\rDeleting intent ({i+1} of {len(existing_intents)}): {intent}\", end=\" - \")\r\n",
    "    not_deleted = True\r\n",
    "    while not_deleted:\r\n",
    "        try:\r\n",
    "            response = client.delete_intent(\r\n",
    "                name=intent\r\n",
    "            )\r\n",
    "            not_deleted = False\r\n",
    "        except:\r\n",
    "            time.sleep(1)\r\n",
    "            \r\n",
    "    print(\"Done.\", end=\"\")"
   ]
  },
  {
   "cell_type": "code",
   "execution_count": null,
   "metadata": {},
   "outputs": [],
   "source": [
    "# # Delete all intents\r\n",
    "all_intents = [i['name'] for i in client.get_intents(maxResults=50)['intents']]\r\n",
    "\r\n",
    "# Delete all intents\r\n",
    "for intent in all_intents:\r\n",
    "    print(f\"Deleting intent: {intent}\", end=\" - \")\r\n",
    "    \r\n",
    "    try:\r\n",
    "        client.delete_intent(\r\n",
    "            name=intent\r\n",
    "        )\r\n",
    "        time.sleep(1)\r\n",
    "    except:\r\n",
    "        time.sleep(1)\r\n",
    "    print(\"Done.\")"
   ]
  },
  {
   "cell_type": "markdown",
   "metadata": {},
   "source": [
    "# Update bit with new utterances"
   ]
  },
  {
   "cell_type": "code",
   "execution_count": 5,
   "metadata": {},
   "outputs": [
    {
     "data": {
      "text/html": [
       "<div>\n",
       "<style scoped>\n",
       "    .dataframe tbody tr th:only-of-type {\n",
       "        vertical-align: middle;\n",
       "    }\n",
       "\n",
       "    .dataframe tbody tr th {\n",
       "        vertical-align: top;\n",
       "    }\n",
       "\n",
       "    .dataframe thead th {\n",
       "        text-align: right;\n",
       "    }\n",
       "</style>\n",
       "<table border=\"1\" class=\"dataframe\">\n",
       "  <thead>\n",
       "    <tr style=\"text-align: right;\">\n",
       "      <th></th>\n",
       "      <th>text</th>\n",
       "      <th>label</th>\n",
       "      <th>intent</th>\n",
       "    </tr>\n",
       "  </thead>\n",
       "  <tbody>\n",
       "    <tr>\n",
       "      <th>0</th>\n",
       "      <td>I cannot view the refunded amount in my account</td>\n",
       "      <td>51</td>\n",
       "      <td>Refund_not_showing_up</td>\n",
       "    </tr>\n",
       "    <tr>\n",
       "      <th>1</th>\n",
       "      <td>My refund is not showing up in my account Wher...</td>\n",
       "      <td>51</td>\n",
       "      <td>Refund_not_showing_up</td>\n",
       "    </tr>\n",
       "  </tbody>\n",
       "</table>\n",
       "</div>"
      ],
      "text/plain": [
       "                                                text  label  \\\n",
       "0    I cannot view the refunded amount in my account     51   \n",
       "1  My refund is not showing up in my account Wher...     51   \n",
       "\n",
       "                  intent  \n",
       "0  Refund_not_showing_up  \n",
       "1  Refund_not_showing_up  "
      ]
     },
     "execution_count": 5,
     "metadata": {},
     "output_type": "execute_result"
    }
   ],
   "source": [
    "# Read training intents/utterances\r\n",
    "# df = pd.read_excel(\"../data/train.xlsx\")\r\n",
    "df = pd.read_excel(\"../data/train_tiny.xlsx\")\r\n",
    "# df[\"intent\"] = df[\"intent\"].str.replace('[^\\w\\s]','', regex=True)\r\n",
    "# df[\"text\"] = df[\"text\"].str.replace('[^\\w\\s]','', regex=True).str.strip().str.strip(\"_\")\r\n",
    "\r\n",
    "# df = df.drop_duplicates(subset=[\"text\", \"intent\"]).reset_index(drop=True)\r\n",
    "\r\n",
    "df.head(2)"
   ]
  },
  {
   "cell_type": "code",
   "execution_count": 9,
   "metadata": {},
   "outputs": [],
   "source": [
    "intents_out = []\r\n",
    "for intent in df['intent'].unique():\r\n",
    "    \r\n",
    "    utters = df.loc[df['intent'] == intent, \"text\"].values.tolist()\r\n",
    "    \r\n",
    "    if intent in existing_intents:\r\n",
    "        \r\n",
    "        intent_out = list(filter(lambda d: d['name'] == intent, \r\n",
    "                                 bot_extract[\"resource\"][\"intents\"]))[0].copy()\r\n",
    "        \r\n",
    "        intent_out['sampleUtterances'] = utters\r\n",
    "        intent_out['version'] = \"$LATEST\"\r\n",
    "        \r\n",
    "    else:\r\n",
    "        \r\n",
    "        intent_out = {\r\n",
    "            'name': intent,\r\n",
    "            'version': \"$LATEST\",\r\n",
    "            'fulfillmentActivity': {'type': 'ReturnIntent'},\r\n",
    "            'sampleUtterances': utters,\r\n",
    "            'slots': []\r\n",
    "            }\r\n",
    "    intents_out.append(intent_out)\r\n",
    "    "
   ]
  },
  {
   "cell_type": "code",
   "execution_count": 10,
   "metadata": {},
   "outputs": [],
   "source": [
    "# Update bot with new utterances\r\n",
    "bot_extract[\"resource\"][\"intents\"] = intents_out\r\n",
    "mem_zip = BytesIO()\r\n",
    "\r\n",
    "# Zip bot\r\n",
    "with zipfile.ZipFile(mem_zip, \"w\") as z:\r\n",
    "    with z.open(f\"{bot_name}.json\", \"w\") as c:\r\n",
    "        c.write(json.dumps(bot_extract, indent=4).encode(\"utf-8\"))\r\n",
    "        \r\n",
    "# Zip bot\r\n",
    "with zipfile.ZipFile(f\"../bots/{bot_name}_update.zip\", \"w\") as z:\r\n",
    "    with z.open(f\"{bot_name}.json\", \"w\") as c:\r\n",
    "        c.write(json.dumps(bot_extract, indent=4).encode(\"utf-8\"))\r\n",
    "  \r\n",
    "       \r\n",
    "response = client.start_import(\r\n",
    "    payload=mem_zip.getvalue(),\r\n",
    "    resourceType='BOT',\r\n",
    "    mergeStrategy='OVERWRITE_LATEST'\r\n",
    ")"
   ]
  },
  {
   "cell_type": "code",
   "execution_count": 22,
   "metadata": {},
   "outputs": [
    {
     "data": {
      "text/plain": [
       "{'ResponseMetadata': {'RequestId': 'c58b1539-dc0d-402e-b439-6a9c82f8a81b',\n",
       "  'HTTPStatusCode': 200,\n",
       "  'HTTPHeaders': {'content-type': 'application/json',\n",
       "   'date': 'Thu, 24 Feb 2022 13:21:52 GMT',\n",
       "   'x-amzn-requestid': 'c58b1539-dc0d-402e-b439-6a9c82f8a81b',\n",
       "   'content-length': '215',\n",
       "   'connection': 'keep-alive'},\n",
       "  'RetryAttempts': 0},\n",
       " 'name': 'banking_seventy_seven',\n",
       " 'resourceType': 'BOT',\n",
       " 'mergeStrategy': 'OVERWRITE_LATEST',\n",
       " 'importId': '90642d98-8aaf-4fe8-a48c-5734916b0f5b',\n",
       " 'importStatus': 'COMPLETE',\n",
       " 'createdDate': datetime.datetime(2022, 2, 24, 15, 21, 45, 650000, tzinfo=tzlocal())}"
      ]
     },
     "execution_count": 22,
     "metadata": {},
     "output_type": "execute_result"
    }
   ],
   "source": [
    "client.get_import(\r\n",
    "    importId=response[\"importId\"])"
   ]
  },
  {
   "cell_type": "code",
   "execution_count": null,
   "metadata": {},
   "outputs": [],
   "source": []
  },
  {
   "cell_type": "code",
   "execution_count": null,
   "metadata": {},
   "outputs": [],
   "source": []
  }
 ],
 "metadata": {
  "interpreter": {
   "hash": "f81e1a69963e9660a345dea2bd1ce8fb2c0e56a943a084298f4f8779821f1027"
  },
  "kernelspec": {
   "display_name": "Python 3.8.0 64-bit ('py_boto': conda)",
   "name": "python3"
  },
  "language_info": {
   "codemirror_mode": {
    "name": "ipython",
    "version": 3
   },
   "file_extension": ".py",
   "mimetype": "text/x-python",
   "name": "python",
   "nbconvert_exporter": "python",
   "pygments_lexer": "ipython3",
   "version": "3.8.0"
  },
  "orig_nbformat": 4
 },
 "nbformat": 4,
 "nbformat_minor": 2
}