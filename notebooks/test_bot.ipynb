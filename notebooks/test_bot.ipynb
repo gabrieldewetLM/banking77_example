{
 "cells": [
  {
   "cell_type": "code",
   "execution_count": 1,
   "metadata": {},
   "outputs": [],
   "source": [
    "import boto3\r\n",
    "import pandas as pd\r\n",
    "import json\r\n",
    "import time\r\n",
    "from sklearn.metrics import f1_score, balanced_accuracy_score"
   ]
  },
  {
   "cell_type": "code",
   "execution_count": 2,
   "metadata": {},
   "outputs": [],
   "source": [
    "# AWS credentials\r\n",
    "with open(\"../resources/credentials.json\", \"r\") as f:\r\n",
    "    creds = json.load(f)\r\n",
    "    \r\n",
    "ACCESS_KEY = creds[\"Access key ID\"]\r\n",
    "SECRET_KEY = creds[\"Secret access key\"]\r\n",
    "region = \"eu-west-1\"\r\n",
    "\r\n",
    "# Clients\r\n",
    "lex_runtime = \"lex-runtime\"\r\n",
    "lex_models = \"lex-models\"\r\n",
    "\r\n",
    "# Bot details\r\n",
    "with open(\"../resources/bot_config.json\", \"r\") as f:\r\n",
    "    bot_config = json.load(f)\r\n",
    "    \r\n",
    "bot_name = bot_config[\"bot_name\"]\r\n",
    "bot_alias = bot_config[\"bot_alias\"]"
   ]
  },
  {
   "cell_type": "code",
   "execution_count": 3,
   "metadata": {},
   "outputs": [],
   "source": [
    "client = boto3.client(lex_runtime,\r\n",
    "                      aws_access_key_id=ACCESS_KEY,\r\n",
    "                      aws_secret_access_key=SECRET_KEY,\r\n",
    "                      region_name=region)"
   ]
  },
  {
   "cell_type": "code",
   "execution_count": 4,
   "metadata": {},
   "outputs": [],
   "source": [
    "# Predict function\r\n",
    "def lex_predict(df_, client, bot_name, bot_alias):\r\n",
    "    \r\n",
    "    df_[\"lex_pred\"] = \"\"\r\n",
    "    df_[\"lex_prob\"] = \"\"\r\n",
    "\r\n",
    "    for i, row in df_.iterrows():\r\n",
    "        print(f\"\\rProcessing {i+1} of {len(df_)}\", end=\"\")\r\n",
    "        \r\n",
    "        text = row.text\r\n",
    "        response = client.post_text(\r\n",
    "            botName=bot_name,\r\n",
    "            botAlias=bot_alias,\r\n",
    "            userId='test_user',\r\n",
    "            sessionAttributes={\r\n",
    "                'sessionID': 'test_session'\r\n",
    "            },\r\n",
    "            inputText=text,\r\n",
    "        )\r\n",
    "        \r\n",
    "        try:\r\n",
    "            df_.loc[:,\"lex_pred\"].iloc[i] = response[\"intentName\"]\r\n",
    "            df_.loc[:, \"lex_prob\"].iloc[i] = response[\"nluIntentConfidence\"]['score']\r\n",
    "            \r\n",
    "        except KeyError:\r\n",
    "            df_.loc[:,\"lex_pred\"].iloc[i] = \"None\"\r\n",
    "            continue   \r\n",
    "    \r\n",
    "    return df_"
   ]
  },
  {
   "cell_type": "markdown",
   "metadata": {},
   "source": [
    "# Test on standard test test"
   ]
  },
  {
   "cell_type": "code",
   "execution_count": 5,
   "metadata": {},
   "outputs": [
    {
     "data": {
      "text/html": [
       "<div>\n",
       "<style scoped>\n",
       "    .dataframe tbody tr th:only-of-type {\n",
       "        vertical-align: middle;\n",
       "    }\n",
       "\n",
       "    .dataframe tbody tr th {\n",
       "        vertical-align: top;\n",
       "    }\n",
       "\n",
       "    .dataframe thead th {\n",
       "        text-align: right;\n",
       "    }\n",
       "</style>\n",
       "<table border=\"1\" class=\"dataframe\">\n",
       "  <thead>\n",
       "    <tr style=\"text-align: right;\">\n",
       "      <th></th>\n",
       "      <th>text</th>\n",
       "      <th>label</th>\n",
       "      <th>intent</th>\n",
       "    </tr>\n",
       "  </thead>\n",
       "  <tbody>\n",
       "    <tr>\n",
       "      <th>0</th>\n",
       "      <td>How do I locate my card</td>\n",
       "      <td>11</td>\n",
       "      <td>card_arrival</td>\n",
       "    </tr>\n",
       "    <tr>\n",
       "      <th>1</th>\n",
       "      <td>I still have not received my new card I ordere...</td>\n",
       "      <td>11</td>\n",
       "      <td>card_arrival</td>\n",
       "    </tr>\n",
       "  </tbody>\n",
       "</table>\n",
       "</div>"
      ],
      "text/plain": [
       "                                                text  label        intent\n",
       "0                            How do I locate my card     11  card_arrival\n",
       "1  I still have not received my new card I ordere...     11  card_arrival"
      ]
     },
     "execution_count": 5,
     "metadata": {},
     "output_type": "execute_result"
    }
   ],
   "source": [
    "# Read training intents/utterances\r\n",
    "df_small = pd.read_excel(\"../data/test.xlsx\")\r\n",
    "df_small.head(2)"
   ]
  },
  {
   "cell_type": "code",
   "execution_count": 7,
   "metadata": {},
   "outputs": [
    {
     "name": "stdout",
     "output_type": "stream",
     "text": [
      "Processing 1 of 3079"
     ]
    },
    {
     "name": "stderr",
     "output_type": "stream",
     "text": [
      "C:\\Users\\Giebels\\anaconda3\\envs\\py_boto\\lib\\site-packages\\pandas\\core\\indexing.py:1732: SettingWithCopyWarning: \n",
      "A value is trying to be set on a copy of a slice from a DataFrame\n",
      "\n",
      "See the caveats in the documentation: https://pandas.pydata.org/pandas-docs/stable/user_guide/indexing.html#returning-a-view-versus-a-copy\n",
      "  self._setitem_single_block(indexer, value, name)\n"
     ]
    },
    {
     "name": "stdout",
     "output_type": "stream",
     "text": [
      "Processing 110 of 3079"
     ]
    }
   ],
   "source": [
    "df_test1 = lex_predict(df_small.copy(), client, bot_name, bot_alias)"
   ]
  },
  {
   "cell_type": "code",
   "execution_count": null,
   "metadata": {},
   "outputs": [
    {
     "name": "stdout",
     "output_type": "stream",
     "text": [
      "Overall Accuracy: 0.8713868139006171\n",
      "F1 Score: 0.8743884033215368\n",
      "95% + confidence Accuracy (2152 samples): 0.9744423791821561\n",
      "95% + confidence F1 Score (2152 samples): 0.9742904026379858\n"
     ]
    }
   ],
   "source": [
    "df_test1[\"correct\"] = (df_test1[\"intent\"] == df_test1[\"lex_pred\"]).astype(int)\r\n",
    "thresh = 0.95\r\n",
    "\r\n",
    "# Lex accuracy\r\n",
    "acc = df_test1['correct'].mean()\r\n",
    "f1_ = f1_score(df_test1[\"intent\"], df_test1[\"lex_pred\"], average='weighted')\r\n",
    "conf_acc = df_test1.loc[df_test1['lex_prob'].replace(\"\",\"0\").astype(float)>=thresh, 'correct'].mean()\r\n",
    "f1_conf = f1_score(df_test1.loc[df_test1['lex_prob'].replace(\"\",\"0\").astype(float)>=thresh, \"intent\"], \r\n",
    "                   df_test1.loc[df_test1['lex_prob'].replace(\"\",\"0\").astype(float)>=thresh, \"lex_pred\"], average='weighted')\r\n",
    "n_conf = len(df_test1.loc[df_test1['lex_prob'].replace(\"\",\"0\").astype(float)>=thresh, :])\r\n",
    "\r\n",
    "print(f\"Overall Accuracy: {acc}\")\r\n",
    "print(f\"F1 Score: {f1_}\")\r\n",
    "print(f\"95% + confidence Accuracy ({n_conf} samples): {conf_acc}\")\r\n",
    "print(f\"95% + confidence F1 Score ({n_conf} samples): {f1_conf}\")"
   ]
  },
  {
   "cell_type": "code",
   "execution_count": null,
   "metadata": {},
   "outputs": [],
   "source": [
    "\r\n",
    "df_test1.to_excel(\"../data/lex_results.xlsx\", index=False)\r\n"
   ]
  },
  {
   "cell_type": "markdown",
   "metadata": {},
   "source": [
    "# Test on large test test"
   ]
  },
  {
   "cell_type": "code",
   "execution_count": null,
   "metadata": {},
   "outputs": [
    {
     "data": {
      "text/html": [
       "<div>\n",
       "<style scoped>\n",
       "    .dataframe tbody tr th:only-of-type {\n",
       "        vertical-align: middle;\n",
       "    }\n",
       "\n",
       "    .dataframe tbody tr th {\n",
       "        vertical-align: top;\n",
       "    }\n",
       "\n",
       "    .dataframe thead th {\n",
       "        text-align: right;\n",
       "    }\n",
       "</style>\n",
       "<table border=\"1\" class=\"dataframe\">\n",
       "  <thead>\n",
       "    <tr style=\"text-align: right;\">\n",
       "      <th></th>\n",
       "      <th>text</th>\n",
       "      <th>label</th>\n",
       "      <th>intent</th>\n",
       "    </tr>\n",
       "  </thead>\n",
       "  <tbody>\n",
       "    <tr>\n",
       "      <th>0</th>\n",
       "      <td>When did you send me my new card</td>\n",
       "      <td>11</td>\n",
       "      <td>card_arrival</td>\n",
       "    </tr>\n",
       "    <tr>\n",
       "      <th>1</th>\n",
       "      <td>Do you have info about the card on delivery</td>\n",
       "      <td>11</td>\n",
       "      <td>card_arrival</td>\n",
       "    </tr>\n",
       "  </tbody>\n",
       "</table>\n",
       "</div>"
      ],
      "text/plain": [
       "                                          text  label        intent\n",
       "0             When did you send me my new card     11  card_arrival\n",
       "1  Do you have info about the card on delivery     11  card_arrival"
      ]
     },
     "execution_count": 24,
     "metadata": {},
     "output_type": "execute_result"
    }
   ],
   "source": [
    "# Read training intents/utterances\r\n",
    "df_large = pd.read_excel(\"../data/test_massive.xlsx\")\r\n",
    "df_large.head(2)"
   ]
  },
  {
   "cell_type": "code",
   "execution_count": null,
   "metadata": {},
   "outputs": [
    {
     "name": "stdout",
     "output_type": "stream",
     "text": [
      "Processing 1 of 10178"
     ]
    },
    {
     "name": "stderr",
     "output_type": "stream",
     "text": [
      "C:\\Users\\Giebels\\anaconda3\\envs\\py_boto\\lib\\site-packages\\pandas\\core\\indexing.py:1732: SettingWithCopyWarning: \n",
      "A value is trying to be set on a copy of a slice from a DataFrame\n",
      "\n",
      "See the caveats in the documentation: https://pandas.pydata.org/pandas-docs/stable/user_guide/indexing.html#returning-a-view-versus-a-copy\n",
      "  self._setitem_single_block(indexer, value, name)\n"
     ]
    },
    {
     "name": "stdout",
     "output_type": "stream",
     "text": [
      "Processing 10178 of 10178"
     ]
    }
   ],
   "source": [
    "df_test2 = lex_predict(df_large.copy(), client, bot_name, bot_alias)"
   ]
  },
  {
   "cell_type": "code",
   "execution_count": null,
   "metadata": {},
   "outputs": [
    {
     "name": "stdout",
     "output_type": "stream",
     "text": [
      "Overall Accuracy: 0.8639221851051287\n",
      "F1 Score: 0.8663328163664185\n",
      "95% + confidence Accuracy (6939 samples): 0.975789018590575\n",
      "95% + confidence F1 Score (6939 samples): 0.9757309753879153\n"
     ]
    }
   ],
   "source": [
    "df_test2[\"correct\"] = (df_test2[\"intent\"] == df_test2[\"lex_pred\"]).astype(int)\r\n",
    "thresh = 0.95\r\n",
    "\r\n",
    "# Lex accuracy\r\n",
    "acc = df_test2['correct'].mean()\r\n",
    "f1_ = f1_score(df_test2[\"intent\"], df_test2[\"lex_pred\"], average='weighted')\r\n",
    "conf_acc = df_test2.loc[df_test2['lex_prob'].replace(\"\",\"0\").astype(float)>=thresh, 'correct'].mean()\r\n",
    "f1_conf = f1_score(df_test2.loc[df_test2['lex_prob'].replace(\"\",\"0\").astype(float)>=thresh, \"intent\"], \r\n",
    "                   df_test2.loc[df_test2['lex_prob'].replace(\"\",\"0\").astype(float)>=thresh, \"lex_pred\"], average='weighted')\r\n",
    "n_conf = len(df_test2.loc[df_test2['lex_prob'].replace(\"\",\"0\").astype(float)>=thresh, :])\r\n",
    "\r\n",
    "print(f\"Overall Accuracy: {acc}\")\r\n",
    "print(f\"F1 Score: {f1_}\")\r\n",
    "print(f\"95% + confidence Accuracy ({n_conf} samples): {conf_acc}\")\r\n",
    "print(f\"95% + confidence F1 Score ({n_conf} samples): {f1_conf}\")"
   ]
  },
  {
   "cell_type": "code",
   "execution_count": null,
   "metadata": {},
   "outputs": [],
   "source": [
    "df_test2.to_excel(\"../data/lex_results_massive.xlsx\", index=False)"
   ]
  }
 ],
 "metadata": {
  "interpreter": {
   "hash": "f81e1a69963e9660a345dea2bd1ce8fb2c0e56a943a084298f4f8779821f1027"
  },
  "kernelspec": {
   "display_name": "Python 3.8.0 64-bit ('py_boto': conda)",
   "name": "python3"
  },
  "language_info": {
   "codemirror_mode": {
    "name": "ipython",
    "version": 3
   },
   "file_extension": ".py",
   "mimetype": "text/x-python",
   "name": "python",
   "nbconvert_exporter": "python",
   "pygments_lexer": "ipython3",
   "version": "3.8.0"
  },
  "orig_nbformat": 4
 },
 "nbformat": 4,
 "nbformat_minor": 2
}