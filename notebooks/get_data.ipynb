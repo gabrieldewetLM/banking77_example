{
 "cells": [
  {
   "cell_type": "code",
   "execution_count": 1,
   "metadata": {},
   "outputs": [],
   "source": [
    "import pandas as pd\r\n",
    "from datasets import load_dataset"
   ]
  },
  {
   "cell_type": "code",
   "execution_count": 2,
   "metadata": {},
   "outputs": [
    {
     "name": "stderr",
     "output_type": "stream",
     "text": [
      "Downloading: 7.30kB [00:00, 3.65MB/s]                   \n",
      "Downloading: 5.89kB [00:00, 5.89MB/s]                   \n",
      "Using custom data configuration default\n"
     ]
    },
    {
     "name": "stdout",
     "output_type": "stream",
     "text": [
      "Downloading and preparing dataset banking77/default (download: 1.03 MiB, generated: 897.51 KiB, post-processed: Unknown size, total: 1.91 MiB) to C:\\Users\\Giebels\\.cache\\huggingface\\datasets\\banking77\\default\\1.1.0\\aec0289529599d4572d76ab00c8944cb84f88410ad0c9e7da26189d31f62a55b...\n"
     ]
    },
    {
     "name": "stderr",
     "output_type": "stream",
     "text": [
      "Downloading: 839kB [00:00, 17.8MB/s]                   \n",
      "Downloading: 240kB [00:00, 13.3MB/s]                    \n"
     ]
    },
    {
     "name": "stdout",
     "output_type": "stream",
     "text": [
      "Dataset banking77 downloaded and prepared to C:\\Users\\Giebels\\.cache\\huggingface\\datasets\\banking77\\default\\1.1.0\\aec0289529599d4572d76ab00c8944cb84f88410ad0c9e7da26189d31f62a55b. Subsequent calls will reuse this data.\n"
     ]
    },
    {
     "name": "stderr",
     "output_type": "stream",
     "text": [
      "100%|██████████| 2/2 [00:00<00:00, 86.97it/s]\n"
     ]
    },
    {
     "data": {
      "text/plain": [
       "DatasetDict({\n",
       "    train: Dataset({\n",
       "        features: ['text', 'label'],\n",
       "        num_rows: 10003\n",
       "    })\n",
       "    test: Dataset({\n",
       "        features: ['text', 'label'],\n",
       "        num_rows: 3080\n",
       "    })\n",
       "})"
      ]
     },
     "execution_count": 2,
     "metadata": {},
     "output_type": "execute_result"
    }
   ],
   "source": [
    "dataset = load_dataset(\"banking77\")\r\n",
    "dataset"
   ]
  },
  {
   "cell_type": "code",
   "execution_count": 3,
   "metadata": {},
   "outputs": [
    {
     "data": {
      "text/plain": [
       "DatasetDict({\n",
       "    train: Dataset({\n",
       "        features: ['text', 'label'],\n",
       "        num_rows: 10003\n",
       "    })\n",
       "    test: Dataset({\n",
       "        features: ['text', 'label'],\n",
       "        num_rows: 3080\n",
       "    })\n",
       "})"
      ]
     },
     "execution_count": 3,
     "metadata": {},
     "output_type": "execute_result"
    }
   ],
   "source": [
    "dataset"
   ]
  },
  {
   "cell_type": "code",
   "execution_count": 4,
   "metadata": {},
   "outputs": [
    {
     "data": {
      "text/plain": [
       "datasets.dataset_dict.DatasetDict"
      ]
     },
     "execution_count": 4,
     "metadata": {},
     "output_type": "execute_result"
    }
   ],
   "source": [
    "type(dataset)"
   ]
  },
  {
   "cell_type": "code",
   "execution_count": 5,
   "metadata": {},
   "outputs": [
    {
     "data": {
      "text/plain": [
       "{'train': ['text', 'label'], 'test': ['text', 'label']}"
      ]
     },
     "execution_count": 5,
     "metadata": {},
     "output_type": "execute_result"
    }
   ],
   "source": [
    "dataset.column_names"
   ]
  },
  {
   "cell_type": "code",
   "execution_count": 11,
   "metadata": {},
   "outputs": [
    {
     "data": {
      "text/plain": [
       "{'train': MemoryMappedTable\n",
       " text: string\n",
       " label: int64\n",
       " ----\n",
       " text: [[\"I am still waiting on my card?\",\"What can I do if my card still hasn't arrived after 2 weeks?\",\"I have been waiting over a week. Is the card still coming?\",\"Can I track my card while it is in the process of delivery?\",\"How do I know if I will get my card, or if it is lost?\",\"When did you send me my new card?\",\"Do you have info about the card on delivery?\",\"What do I do if I still have not received my new card?\",\"Does the package with my card have tracking?\",\"I ordered my card but it still isn't here\",...,\"Are your cards available in the EU?\",\"I'm in the EU. Can I get one of your cards?\",\"Is this card available to United States Residents?\",\"can I use it all over the world?\",\"Do you work in Greece?\",\"What countries do your accounts support?\",\"I live in the US and I would like to get a card. How do I go about getting one?\",\"I just moved to the US how do I get a card?\",\"You provide support in what countries?\",\"What countries are you supporting?\"],[\"What countries are getting support?\",\"Are cards available in the EU?\",\"Which countries are represented?\"]]\n",
       " label: [[11,11,11,11,11,11,11,11,11,11,...,24,24,24,24,24,24,24,24,24,24],[24,24,24]],\n",
       " 'test': MemoryMappedTable\n",
       " text: string\n",
       " label: int64\n",
       " ----\n",
       " text: [[\"How do I locate my card?\",\"I still have not received my new card, I ordered over a week ago.\",\"I ordered a card but it has not arrived. Help please!\",\"Is there a way to know when my card will arrive?\",\"My card has not arrived yet.\",\"When will I get my card?\",\"Do you know if there is a tracking number for the new card you sent me?\",\"i have not received my card\",\"still waiting on that card\",\"Is it normal to have to wait over a week for my new card?\",...,\"I don't live in the UK.  Can I still get a card?\",\"Where do you support?\",\"Am I able to get a card in EU?\",\"What countries do you currently do business in?\",\"I'm not in the UK, can I get a card?\",\"If i'm not in the UK, can I still get a card?\",\"How many countries do you support?\",\"What countries do you do business in?\",\"What are the countries you operate in.\",\"Can the card be mailed and used in Europe?\"]]\n",
       " label: [[11,11,11,11,11,11,11,11,11,11,...,24,24,24,24,24,24,24,24,24,24]]}"
      ]
     },
     "execution_count": 11,
     "metadata": {},
     "output_type": "execute_result"
    }
   ],
   "source": [
    "dataset.data"
   ]
  },
  {
   "cell_type": "code",
   "execution_count": 18,
   "metadata": {},
   "outputs": [],
   "source": [
    "train = dataset.data['train']\r\n",
    "test = dataset.data['test']"
   ]
  },
  {
   "cell_type": "code",
   "execution_count": 33,
   "metadata": {},
   "outputs": [],
   "source": [
    "train.to_pandas().to_excel(\"../data/train.xlsx\", index=False)\r\n",
    "test.to_pandas().to_excel(\"../data/test.xlsx\", index=False)"
   ]
  },
  {
   "cell_type": "code",
   "execution_count": null,
   "metadata": {},
   "outputs": [],
   "source": []
  }
 ],
 "metadata": {
  "interpreter": {
   "hash": "f81e1a69963e9660a345dea2bd1ce8fb2c0e56a943a084298f4f8779821f1027"
  },
  "kernelspec": {
   "display_name": "Python 3.8.0 64-bit ('py_boto': conda)",
   "name": "python3"
  },
  "language_info": {
   "codemirror_mode": {
    "name": "ipython",
    "version": 3
   },
   "file_extension": ".py",
   "mimetype": "text/x-python",
   "name": "python",
   "nbconvert_exporter": "python",
   "pygments_lexer": "ipython3",
   "version": "3.8.0"
  },
  "orig_nbformat": 4
 },
 "nbformat": 4,
 "nbformat_minor": 2
}