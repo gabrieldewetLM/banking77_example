{
 "cells": [
  {
   "cell_type": "code",
   "execution_count": 1,
   "metadata": {},
   "outputs": [],
   "source": [
    "import pandas as pd\r\n",
    "from datasets import load_dataset"
   ]
  },
  {
   "cell_type": "code",
   "execution_count": 2,
   "metadata": {},
   "outputs": [
    {
     "name": "stderr",
     "output_type": "stream",
     "text": [
      "Using custom data configuration default\n",
      "Reusing dataset banking77 (C:\\Users\\Giebels\\.cache\\huggingface\\datasets\\banking77\\default\\1.1.0\\aec0289529599d4572d76ab00c8944cb84f88410ad0c9e7da26189d31f62a55b)\n",
      "100%|██████████| 2/2 [00:00<00:00, 86.97it/s]\n"
     ]
    },
    {
     "data": {
      "text/plain": [
       "DatasetDict({\n",
       "    train: Dataset({\n",
       "        features: ['text', 'label'],\n",
       "        num_rows: 10003\n",
       "    })\n",
       "    test: Dataset({\n",
       "        features: ['text', 'label'],\n",
       "        num_rows: 3080\n",
       "    })\n",
       "})"
      ]
     },
     "execution_count": 2,
     "metadata": {},
     "output_type": "execute_result"
    }
   ],
   "source": [
    "dataset = load_dataset(\"banking77\")\r\n",
    "dataset"
   ]
  },
  {
   "cell_type": "code",
   "execution_count": 3,
   "metadata": {},
   "outputs": [
    {
     "data": {
      "text/plain": [
       "DatasetDict({\n",
       "    train: Dataset({\n",
       "        features: ['text', 'label'],\n",
       "        num_rows: 10003\n",
       "    })\n",
       "    test: Dataset({\n",
       "        features: ['text', 'label'],\n",
       "        num_rows: 3080\n",
       "    })\n",
       "})"
      ]
     },
     "execution_count": 3,
     "metadata": {},
     "output_type": "execute_result"
    }
   ],
   "source": [
    "dataset"
   ]
  },
  {
   "cell_type": "code",
   "execution_count": 4,
   "metadata": {},
   "outputs": [
    {
     "data": {
      "text/plain": [
       "datasets.dataset_dict.DatasetDict"
      ]
     },
     "execution_count": 4,
     "metadata": {},
     "output_type": "execute_result"
    }
   ],
   "source": [
    "type(dataset)"
   ]
  },
  {
   "cell_type": "code",
   "execution_count": 5,
   "metadata": {},
   "outputs": [
    {
     "data": {
      "text/plain": [
       "{'train': ['text', 'label'], 'test': ['text', 'label']}"
      ]
     },
     "execution_count": 5,
     "metadata": {},
     "output_type": "execute_result"
    }
   ],
   "source": [
    "dataset.column_names"
   ]
  },
  {
   "cell_type": "code",
   "execution_count": 6,
   "metadata": {},
   "outputs": [
    {
     "data": {
      "text/plain": [
       "{'train': MemoryMappedTable\n",
       " text: string\n",
       " label: int64\n",
       " ----\n",
       " text: [[\"I am still waiting on my card?\",\"What can I do if my card still hasn't arrived after 2 weeks?\",\"I have been waiting over a week. Is the card still coming?\",\"Can I track my card while it is in the process of delivery?\",\"How do I know if I will get my card, or if it is lost?\",\"When did you send me my new card?\",\"Do you have info about the card on delivery?\",\"What do I do if I still have not received my new card?\",\"Does the package with my card have tracking?\",\"I ordered my card but it still isn't here\",...,\"Are your cards available in the EU?\",\"I'm in the EU. Can I get one of your cards?\",\"Is this card available to United States Residents?\",\"can I use it all over the world?\",\"Do you work in Greece?\",\"What countries do your accounts support?\",\"I live in the US and I would like to get a card. How do I go about getting one?\",\"I just moved to the US how do I get a card?\",\"You provide support in what countries?\",\"What countries are you supporting?\"],[\"What countries are getting support?\",\"Are cards available in the EU?\",\"Which countries are represented?\"]]\n",
       " label: [[11,11,11,11,11,11,11,11,11,11,...,24,24,24,24,24,24,24,24,24,24],[24,24,24]],\n",
       " 'test': MemoryMappedTable\n",
       " text: string\n",
       " label: int64\n",
       " ----\n",
       " text: [[\"How do I locate my card?\",\"I still have not received my new card, I ordered over a week ago.\",\"I ordered a card but it has not arrived. Help please!\",\"Is there a way to know when my card will arrive?\",\"My card has not arrived yet.\",\"When will I get my card?\",\"Do you know if there is a tracking number for the new card you sent me?\",\"i have not received my card\",\"still waiting on that card\",\"Is it normal to have to wait over a week for my new card?\",...,\"I don't live in the UK.  Can I still get a card?\",\"Where do you support?\",\"Am I able to get a card in EU?\",\"What countries do you currently do business in?\",\"I'm not in the UK, can I get a card?\",\"If i'm not in the UK, can I still get a card?\",\"How many countries do you support?\",\"What countries do you do business in?\",\"What are the countries you operate in.\",\"Can the card be mailed and used in Europe?\"]]\n",
       " label: [[11,11,11,11,11,11,11,11,11,11,...,24,24,24,24,24,24,24,24,24,24]]}"
      ]
     },
     "execution_count": 6,
     "metadata": {},
     "output_type": "execute_result"
    }
   ],
   "source": [
    "dataset.data"
   ]
  },
  {
   "cell_type": "code",
   "execution_count": 7,
   "metadata": {},
   "outputs": [],
   "source": [
    "train = dataset.data['train']\r\n",
    "test = dataset.data['test']"
   ]
  },
  {
   "cell_type": "code",
   "execution_count": 8,
   "metadata": {},
   "outputs": [
    {
     "data": {
      "text/html": [
       "<div>\n",
       "<style scoped>\n",
       "    .dataframe tbody tr th:only-of-type {\n",
       "        vertical-align: middle;\n",
       "    }\n",
       "\n",
       "    .dataframe tbody tr th {\n",
       "        vertical-align: top;\n",
       "    }\n",
       "\n",
       "    .dataframe thead th {\n",
       "        text-align: right;\n",
       "    }\n",
       "</style>\n",
       "<table border=\"1\" class=\"dataframe\">\n",
       "  <thead>\n",
       "    <tr style=\"text-align: right;\">\n",
       "      <th></th>\n",
       "      <th>label</th>\n",
       "      <th>intent</th>\n",
       "    </tr>\n",
       "  </thead>\n",
       "  <tbody>\n",
       "    <tr>\n",
       "      <th>0</th>\n",
       "      <td>0</td>\n",
       "      <td>activate_my_card</td>\n",
       "    </tr>\n",
       "    <tr>\n",
       "      <th>1</th>\n",
       "      <td>1</td>\n",
       "      <td>age_limit</td>\n",
       "    </tr>\n",
       "    <tr>\n",
       "      <th>2</th>\n",
       "      <td>2</td>\n",
       "      <td>apple_pay_or_google_pay</td>\n",
       "    </tr>\n",
       "    <tr>\n",
       "      <th>3</th>\n",
       "      <td>3</td>\n",
       "      <td>atm_support</td>\n",
       "    </tr>\n",
       "    <tr>\n",
       "      <th>4</th>\n",
       "      <td>4</td>\n",
       "      <td>automatic_top_up</td>\n",
       "    </tr>\n",
       "  </tbody>\n",
       "</table>\n",
       "</div>"
      ],
      "text/plain": [
       "   label                   intent\n",
       "0      0         activate_my_card\n",
       "1      1                age_limit\n",
       "2      2  apple_pay_or_google_pay\n",
       "3      3              atm_support\n",
       "4      4         automatic_top_up"
      ]
     },
     "execution_count": 8,
     "metadata": {},
     "output_type": "execute_result"
    }
   ],
   "source": [
    "df_labels = pd.read_excel(\"../data/intent_labels.xlsx\")\r\n",
    "df_labels.head()"
   ]
  },
  {
   "cell_type": "code",
   "execution_count": 9,
   "metadata": {},
   "outputs": [],
   "source": [
    "train_df = train.to_pandas().merge(df_labels, on=[\"label\"], how=\"left\")\r\n",
    "test_df = test.to_pandas().merge(df_labels, on=[\"label\"], how=\"left\")"
   ]
  },
  {
   "cell_type": "code",
   "execution_count": 10,
   "metadata": {},
   "outputs": [],
   "source": [
    "def average_per_intent(df_):\r\n",
    "    \r\n",
    "    dfg = df_.groupby(\"intent\").count().reset_index()\r\n",
    "    min_ = dfg['text'].min()\r\n",
    "    max_ = dfg['text'].max()\r\n",
    "    avg_ = dfg['text'].mean()\r\n",
    "    \r\n",
    "    return f\"Min: {min_}, Max: {max_}, Average: {avg_}\""
   ]
  },
  {
   "cell_type": "code",
   "execution_count": 11,
   "metadata": {},
   "outputs": [
    {
     "name": "stdout",
     "output_type": "stream",
     "text": [
      "(9855, 3)\n",
      "(3079, 3)\n",
      "Training data utterances per intent\n"
     ]
    },
    {
     "data": {
      "text/plain": [
       "'Min: 35, Max: 186, Average: 127.98701298701299'"
      ]
     },
     "execution_count": 11,
     "metadata": {},
     "output_type": "execute_result"
    }
   ],
   "source": [
    "# Clean data\r\n",
    "\r\n",
    "# Strip punctuation from intent names\r\n",
    "train_df[\"intent\"] = train_df[\"intent\"].str.replace('[^\\w\\s]','', regex=True)\r\n",
    "test_df[\"intent\"] = test_df[\"intent\"].str.replace('[^\\w\\s]','', regex=True)\r\n",
    "\r\n",
    "# Strip punctuation and whitespace from utterances\r\n",
    "train_df[\"text\"] = train_df[\"text\"].str.replace('[^\\w\\s]','', regex=True).str.strip().str.strip(\"_\")\r\n",
    "test_df[\"text\"] = test_df[\"text\"].str.replace('[^\\w\\s]','', regex=True).str.strip().str.strip(\"_\")\r\n",
    "\r\n",
    "# Drop duplicates\r\n",
    "train_df = train_df.drop_duplicates(subset=[\"text\", \"intent\"]).reset_index(drop=True)\r\n",
    "test_df = test_df.drop_duplicates(subset=[\"text\", \"intent\"]).reset_index(drop=True)\r\n",
    "\r\n",
    "# Remove utterances longer than 200 characters for large training set\r\n",
    "train_df = train_df.loc[train_df[\"text\"].str.len().le(200), :]\r\n",
    "\r\n",
    "# Save base train/test sets\r\n",
    "train_df.to_excel(\"../data/train.xlsx\", index=False)\r\n",
    "test_df.to_excel(\"../data/test.xlsx\", index=False)\r\n",
    "\r\n",
    "print(train_df.shape)\r\n",
    "print(test_df.shape)\r\n",
    "\r\n",
    "print(\"Training data utterances per intent\")\r\n",
    "average_per_intent(train_df)"
   ]
  },
  {
   "cell_type": "code",
   "execution_count": 12,
   "metadata": {},
   "outputs": [
    {
     "name": "stdout",
     "output_type": "stream",
     "text": [
      "(9199, 3)\n",
      "(656, 3)\n",
      "(2756, 3)\n",
      "(6443, 3)\n"
     ]
    }
   ],
   "source": [
    "# Remove long utterances for better representative train data\r\n",
    "train_df1 = train_df.loc[train_df[\"text\"].str.len().le(120), :]\r\n",
    "test_df1 = train_df.drop(train_df1.index, axis=0)\r\n",
    "print(train_df1.shape)\r\n",
    "print(test_df1.shape)\r\n",
    "\r\n",
    "# Undersample training data\r\n",
    "train_df2 = train_df1.groupby('intent', group_keys=False).apply(lambda x: x.sample(frac=0.3))\r\n",
    "test_df2 = train_df1.drop(train_df2.index, axis=0)\r\n",
    "print(train_df2.shape)\r\n",
    "print(test_df2.shape)\r\n",
    "\r\n"
   ]
  },
  {
   "cell_type": "code",
   "execution_count": 13,
   "metadata": {},
   "outputs": [
    {
     "name": "stdout",
     "output_type": "stream",
     "text": [
      "(10178, 3)\n"
     ]
    },
    {
     "data": {
      "text/plain": [
       "'Min: 65, Max: 175, Average: 132.1818181818182'"
      ]
     },
     "execution_count": 13,
     "metadata": {},
     "output_type": "execute_result"
    }
   ],
   "source": [
    "# Join all test sets together\r\n",
    "test_df_all = pd.concat([test_df2, test_df1, test_df], axis=0)\r\n",
    "print(test_df_all.shape)\r\n",
    "average_per_intent(test_df_all)\r\n"
   ]
  },
  {
   "cell_type": "code",
   "execution_count": 14,
   "metadata": {},
   "outputs": [],
   "source": [
    "train_df2.to_excel(\"../data/train_small.xlsx\", index=False)\r\n",
    "test_df_all.to_excel(\"../data/test_large.xlsx\", index=False)"
   ]
  },
  {
   "cell_type": "code",
   "execution_count": 18,
   "metadata": {},
   "outputs": [
    {
     "name": "stdout",
     "output_type": "stream",
     "text": [
      "(461, 3)\n",
      "(8738, 3)\n"
     ]
    },
    {
     "data": {
      "text/plain": [
       "'Min: 2, Max: 8, Average: 5.987012987012987'"
      ]
     },
     "execution_count": 18,
     "metadata": {},
     "output_type": "execute_result"
    }
   ],
   "source": [
    "# Generate tiny training set\r\n",
    "# Undersample training data\r\n",
    "train_df3 = train_df1.groupby('intent', group_keys=False).apply(lambda x: x.sample(frac=0.05))\r\n",
    "test_df3 = train_df1.drop(train_df3.index, axis=0)\r\n",
    "print(train_df3.shape)\r\n",
    "print(test_df3.shape)\r\n",
    "\r\n",
    "average_per_intent(train_df3)"
   ]
  },
  {
   "cell_type": "code",
   "execution_count": 19,
   "metadata": {},
   "outputs": [
    {
     "name": "stdout",
     "output_type": "stream",
     "text": [
      "(12473, 3)\n"
     ]
    },
    {
     "data": {
      "text/plain": [
       "'Min: 73, Max: 218, Average: 161.98701298701297'"
      ]
     },
     "execution_count": 19,
     "metadata": {},
     "output_type": "execute_result"
    }
   ],
   "source": [
    "# Join all test sets together\r\n",
    "test_df_all_large = pd.concat([test_df3, test_df1, test_df], axis=0)\r\n",
    "print(test_df_all_large.shape)\r\n",
    "average_per_intent(test_df_all_large)"
   ]
  },
  {
   "cell_type": "code",
   "execution_count": 20,
   "metadata": {},
   "outputs": [],
   "source": [
    "train_df3.to_excel(\"../data/train_tiny.xlsx\", index=False)\r\n",
    "test_df_all_large.to_excel(\"../data/test_massive.xlsx\", index=False)"
   ]
  },
  {
   "cell_type": "code",
   "execution_count": null,
   "metadata": {},
   "outputs": [],
   "source": []
  }
 ],
 "metadata": {
  "interpreter": {
   "hash": "f81e1a69963e9660a345dea2bd1ce8fb2c0e56a943a084298f4f8779821f1027"
  },
  "kernelspec": {
   "display_name": "Python 3.8.0 64-bit ('py_boto': conda)",
   "name": "python3"
  },
  "language_info": {
   "codemirror_mode": {
    "name": "ipython",
    "version": 3
   },
   "file_extension": ".py",
   "mimetype": "text/x-python",
   "name": "python",
   "nbconvert_exporter": "python",
   "pygments_lexer": "ipython3",
   "version": "3.8.0"
  },
  "orig_nbformat": 4
 },
 "nbformat": 4,
 "nbformat_minor": 2
}